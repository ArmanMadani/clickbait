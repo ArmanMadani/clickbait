{
 "cells": [
  {
   "cell_type": "markdown",
   "metadata": {},
   "source": [
    "# Clickbait Analysis"
   ]
  },
  {
   "cell_type": "code",
   "execution_count": 170,
   "metadata": {
    "collapsed": false
   },
   "outputs": [],
   "source": [
    "# Import Packages\n",
    "\n",
    "import math\n",
    "import string\n",
    "import numpy as np\n",
    "import pandas as pd\n",
    "import seaborn as sns\n",
    "\n",
    "import matplotlib\n",
    "%matplotlib inline\n",
    "import matplotlib.pyplot as plt\n",
    "plt.style.use('ggplot')\n",
    "\n",
    "from nltk.corpus import stopwords\n",
    "from nltk.stem import PorterStemmer\n",
    "from sklearn.pipeline import Pipeline\n",
    "from sklearn.linear_model import LogisticRegression\n",
    "from sklearn.ensemble import RandomForestClassifier\n",
    "from sklearn.naive_bayes import MultinomialNB\n",
    "from sklearn.cross_validation import train_test_split, cross_val_score\n",
    "from sklearn.feature_extraction.text import CountVectorizer, TfidfTransformer\n",
    "\n",
    "import warnings\n",
    "warnings.simplefilter('ignore')"
   ]
  },
  {
   "cell_type": "code",
   "execution_count": 2,
   "metadata": {
    "collapsed": true
   },
   "outputs": [],
   "source": [
    "# Import datasets as Pandas DataFrames\n",
    "\n",
    "clickbait_df = pd.read_excel('../data/clickbait_final.xlsx')\n",
    "corpus_df = pd.read_excel('../data/corpus.xlsx')"
   ]
  },
  {
   "cell_type": "code",
   "execution_count": 3,
   "metadata": {
    "collapsed": false
   },
   "outputs": [
    {
     "data": {
      "text/html": [
       "<div>\n",
       "<style scoped>\n",
       "    .dataframe tbody tr th:only-of-type {\n",
       "        vertical-align: middle;\n",
       "    }\n",
       "\n",
       "    .dataframe tbody tr th {\n",
       "        vertical-align: top;\n",
       "    }\n",
       "\n",
       "    .dataframe thead th {\n",
       "        text-align: right;\n",
       "    }\n",
       "</style>\n",
       "<table border=\"1\" class=\"dataframe\">\n",
       "  <thead>\n",
       "    <tr style=\"text-align: right;\">\n",
       "      <th></th>\n",
       "      <th>title</th>\n",
       "      <th>clickbait</th>\n",
       "      <th>caps_ratio</th>\n",
       "      <th>exclamation</th>\n",
       "      <th>question</th>\n",
       "    </tr>\n",
       "  </thead>\n",
       "  <tbody>\n",
       "    <tr>\n",
       "      <th>0</th>\n",
       "      <td>Please don't saved you a click us, you guys.</td>\n",
       "      <td>1</td>\n",
       "      <td>0.166667</td>\n",
       "      <td>0</td>\n",
       "      <td>0</td>\n",
       "    </tr>\n",
       "    <tr>\n",
       "      <th>1</th>\n",
       "      <td>IsConnor McGregor Hinting at a Possible Fight ...</td>\n",
       "      <td>1</td>\n",
       "      <td>1.285714</td>\n",
       "      <td>0</td>\n",
       "      <td>1</td>\n",
       "    </tr>\n",
       "    <tr>\n",
       "      <th>2</th>\n",
       "      <td>How Hillary Clinton Sill Can, And Should, Beco...</td>\n",
       "      <td>1</td>\n",
       "      <td>1.090909</td>\n",
       "      <td>0</td>\n",
       "      <td>0</td>\n",
       "    </tr>\n",
       "    <tr>\n",
       "      <th>3</th>\n",
       "      <td>The internet has nominated the Twitter employe...</td>\n",
       "      <td>1</td>\n",
       "      <td>0.545455</td>\n",
       "      <td>0</td>\n",
       "      <td>0</td>\n",
       "    </tr>\n",
       "    <tr>\n",
       "      <th>4</th>\n",
       "      <td>The Reason Cops Touch Your Car’s Taillight Whe...</td>\n",
       "      <td>1</td>\n",
       "      <td>1.000000</td>\n",
       "      <td>0</td>\n",
       "      <td>0</td>\n",
       "    </tr>\n",
       "  </tbody>\n",
       "</table>\n",
       "</div>"
      ],
      "text/plain": [
       "                                               title  clickbait  caps_ratio  \\\n",
       "0       Please don't saved you a click us, you guys.          1    0.166667   \n",
       "1  IsConnor McGregor Hinting at a Possible Fight ...          1    1.285714   \n",
       "2  How Hillary Clinton Sill Can, And Should, Beco...          1    1.090909   \n",
       "3  The internet has nominated the Twitter employe...          1    0.545455   \n",
       "4  The Reason Cops Touch Your Car’s Taillight Whe...          1    1.000000   \n",
       "\n",
       "   exclamation  question  \n",
       "0            0         0  \n",
       "1            0         1  \n",
       "2            0         0  \n",
       "3            0         0  \n",
       "4            0         0  "
      ]
     },
     "execution_count": 3,
     "metadata": {},
     "output_type": "execute_result"
    }
   ],
   "source": [
    "clickbait_df.head()"
   ]
  },
  {
   "cell_type": "code",
   "execution_count": 4,
   "metadata": {
    "collapsed": false
   },
   "outputs": [
    {
     "data": {
      "text/html": [
       "<div>\n",
       "<style scoped>\n",
       "    .dataframe tbody tr th:only-of-type {\n",
       "        vertical-align: middle;\n",
       "    }\n",
       "\n",
       "    .dataframe tbody tr th {\n",
       "        vertical-align: top;\n",
       "    }\n",
       "\n",
       "    .dataframe thead th {\n",
       "        text-align: right;\n",
       "    }\n",
       "</style>\n",
       "<table border=\"1\" class=\"dataframe\">\n",
       "  <thead>\n",
       "    <tr style=\"text-align: right;\">\n",
       "      <th></th>\n",
       "      <th>clickbait</th>\n",
       "      <th>corpus</th>\n",
       "    </tr>\n",
       "  </thead>\n",
       "  <tbody>\n",
       "    <tr>\n",
       "      <th>0</th>\n",
       "      <td>1</td>\n",
       "      <td>please</td>\n",
       "    </tr>\n",
       "    <tr>\n",
       "      <th>1</th>\n",
       "      <td>1</td>\n",
       "      <td>don't</td>\n",
       "    </tr>\n",
       "    <tr>\n",
       "      <th>2</th>\n",
       "      <td>1</td>\n",
       "      <td>saved</td>\n",
       "    </tr>\n",
       "    <tr>\n",
       "      <th>3</th>\n",
       "      <td>1</td>\n",
       "      <td>click</td>\n",
       "    </tr>\n",
       "    <tr>\n",
       "      <th>4</th>\n",
       "      <td>1</td>\n",
       "      <td>us</td>\n",
       "    </tr>\n",
       "  </tbody>\n",
       "</table>\n",
       "</div>"
      ],
      "text/plain": [
       "   clickbait  corpus\n",
       "0          1  please\n",
       "1          1   don't\n",
       "2          1   saved\n",
       "3          1   click\n",
       "4          1      us"
      ]
     },
     "execution_count": 4,
     "metadata": {},
     "output_type": "execute_result"
    }
   ],
   "source": [
    "corpus_df.head()"
   ]
  },
  {
   "cell_type": "code",
   "execution_count": 5,
   "metadata": {
    "collapsed": true
   },
   "outputs": [],
   "source": [
    "cb_caps = clickbait_df[clickbait_df['clickbait'] == 1]['caps_ratio']\n",
    "ncb_caps = clickbait_df[clickbait_df['clickbait'] == 0]['caps_ratio']"
   ]
  },
  {
   "cell_type": "code",
   "execution_count": 16,
   "metadata": {
    "collapsed": false
   },
   "outputs": [
    {
     "name": "stdout",
     "output_type": "stream",
     "text": [
      "The average capitalization ratio for clickbait titles is: 1.0\n"
     ]
    }
   ],
   "source": [
    "ave_cb_caps = np.median(cb_caps)\n",
    "print('The average capitalization ratio for clickbait titles is: ' + \n",
    "      str(round(ave_cb_caps, 2)))"
   ]
  },
  {
   "cell_type": "code",
   "execution_count": 17,
   "metadata": {
    "collapsed": false
   },
   "outputs": [
    {
     "name": "stdout",
     "output_type": "stream",
     "text": [
      "The average capitalization ratio for non-clickbait titles is: 0.38\n"
     ]
    }
   ],
   "source": [
    "ave_ncb_caps = np.median(ncb_caps)\n",
    "print('The average capitalization ratio for non-clickbait titles is: ' + \n",
    "      str(round(ave_ncb_caps, 2)))"
   ]
  },
  {
   "cell_type": "code",
   "execution_count": 40,
   "metadata": {
    "collapsed": false
   },
   "outputs": [
    {
     "data": {
      "text/plain": [
       "<matplotlib.text.Text at 0x1160a52b0>"
      ]
     },
     "execution_count": 40,
     "metadata": {},
     "output_type": "execute_result"
    },
    {
     "data": {
      "image/png": "[encoded data removed]",
      "text/plain": [
       "<matplotlib.figure.Figure at 0x115fc2198>"
      ]
     },
     "metadata": {},
     "output_type": "display_data"
    }
   ],
   "source": [
    "plt.figure(figsize=(10, 8))\n",
    "plt.title('Clickbait vs. Non-Clickbait: Capitalization Ratio')\n",
    "sns.distplot(cb_caps, kde = True, color = '#09C2FF')\n",
    "sns.distplot(ncb_caps, kde = True, color = '#004E68')\n",
    "plt.xlabel('Capitalization Ratio')"
   ]
  },
  {
   "cell_type": "code",
   "execution_count": 18,
   "metadata": {
    "collapsed": true
   },
   "outputs": [],
   "source": [
    "cb_questions = clickbait_df[clickbait_df['clickbait'] == 1]['question']\n",
    "ncb_questions = clickbait_df[clickbait_df['clickbait'] == 0]['question']"
   ]
  },
  {
   "cell_type": "code",
   "execution_count": 28,
   "metadata": {
    "collapsed": false
   },
   "outputs": [
    {
     "name": "stdout",
     "output_type": "stream",
     "text": [
      "The percentage of clickbait titles that are questions is: 16.1%\n"
     ]
    }
   ],
   "source": [
    "cb_question_percentage = sum(cb_questions)/len(cb_questions)\n",
    "print('The percentage of clickbait titles that are questions is: ' +\n",
    "     str(round(cb_question_percentage * 100, 2)) + '%')"
   ]
  },
  {
   "cell_type": "code",
   "execution_count": 30,
   "metadata": {
    "collapsed": false
   },
   "outputs": [
    {
     "name": "stdout",
     "output_type": "stream",
     "text": [
      "The percentage of non-clickbait titles that are questions is: 0.302%\n"
     ]
    }
   ],
   "source": [
    "ncb_question_percentage = sum(ncb_questions)/len(ncb_questions)\n",
    "print('The percentage of non-clickbait titles that are questions is: ' +\n",
    "     str(round(ncb_question_percentage * 100, 3)) + '%')"
   ]
  },
  {
   "cell_type": "code",
   "execution_count": 42,
   "metadata": {
    "collapsed": false
   },
   "outputs": [
    {
     "data": {
      "text/plain": [
       "([<matplotlib.axis.XTick at 0x115d97128>,\n",
       "  <matplotlib.axis.XTick at 0x116322630>],\n",
       " <a list of 2 Text xticklabel objects>)"
      ]
     },
     "execution_count": 42,
     "metadata": {},
     "output_type": "execute_result"
    },
    {
     "data": {
      "image/png": "[encoded data removed]",
      "text/plain": [
       "<matplotlib.figure.Figure at 0x116704f60>"
      ]
     },
     "metadata": {},
     "output_type": "display_data"
    }
   ],
   "source": [
    "plt.figure(figsize=(10, 8))\n",
    "plt.title('Clickbait vs. Non-Clickbait: Questions')\n",
    "plt.bar(\n",
    "    np.arange(2),\n",
    "    [cb_question_percentage, ncb_question_percentage],\n",
    "    align = 'center', \n",
    "    width = 0.5,\n",
    "    alpha = 0.8,\n",
    "    color = ['#09C2FF', '#004E68']\n",
    ")\n",
    "plt.xlabel('Title')\n",
    "plt.ylabel('Percentage')\n",
    "plt.xticks(np.arange(2), ['Clickbait', 'Non-Clickbait'])"
   ]
  },
  {
   "cell_type": "code",
   "execution_count": 19,
   "metadata": {
    "collapsed": true
   },
   "outputs": [],
   "source": [
    "cb_exclamations = clickbait_df[clickbait_df['clickbait'] == 1]['exclamation']\n",
    "ncb_exclamations = clickbait_df[clickbait_df['clickbait'] == 0]['exclamation']"
   ]
  },
  {
   "cell_type": "code",
   "execution_count": 45,
   "metadata": {
    "collapsed": false
   },
   "outputs": [
    {
     "name": "stdout",
     "output_type": "stream",
     "text": [
      "The percentage of clickbait titles that are questions is: 7.75%\n"
     ]
    }
   ],
   "source": [
    "cb_exclamations_percentage = sum(cb_exclamations)/len(cb_exclamations)\n",
    "print('The percentage of clickbait titles that are questions is: ' +\n",
    "     str(round(cb_exclamations_percentage * 100, 2)) + '%')"
   ]
  },
  {
   "cell_type": "code",
   "execution_count": 46,
   "metadata": {
    "collapsed": false
   },
   "outputs": [
    {
     "name": "stdout",
     "output_type": "stream",
     "text": [
      "The percentage of non-clickbait titles that are questions is: 0.0%\n"
     ]
    }
   ],
   "source": [
    "ncb_exclamations_percentage = sum(ncb_exclamations)/len(ncb_exclamations)\n",
    "print('The percentage of non-clickbait titles that are questions is: ' +\n",
    "     str(round(ncb_exclamations_percentage * 100, 3)) + '%')"
   ]
  },
  {
   "cell_type": "code",
   "execution_count": 47,
   "metadata": {
    "collapsed": false
   },
   "outputs": [
    {
     "data": {
      "text/plain": [
       "([<matplotlib.axis.XTick at 0x11695fa58>,\n",
       "  <matplotlib.axis.XTick at 0x1166b3f60>],\n",
       " <a list of 2 Text xticklabel objects>)"
      ]
     },
     "execution_count": 47,
     "metadata": {},
     "output_type": "execute_result"
    },
    {
     "data": {
      "image/png": "[encoded data removed]",
      "text/plain": [
       "<matplotlib.figure.Figure at 0x116346978>"
      ]
     },
     "metadata": {},
     "output_type": "display_data"
    }
   ],
   "source": [
    "plt.figure(figsize=(10, 8))\n",
    "plt.title('Clickbait vs. Non-Clickbait: Exclamations')\n",
    "plt.bar(\n",
    "    np.arange(2),\n",
    "    [cb_exclamations_percentage, ncb_exclamations_percentage],\n",
    "    align = 'center', \n",
    "    width = 0.5,\n",
    "    alpha = 0.8,\n",
    "    color = ['#09C2FF', '#004E68']\n",
    ")\n",
    "plt.xlabel('Title')\n",
    "plt.ylabel('Percentage')\n",
    "plt.xticks(np.arange(2), ['Clickbait', 'Non-Clickbait'])"
   ]
  },
  {
   "cell_type": "code",
   "execution_count": 67,
   "metadata": {
    "collapsed": true
   },
   "outputs": [],
   "source": [
    "def log_ratio(df, term_column = 'corpus', clickbait_indicator = 'clickbait'):\n",
    "    \"\"\"\n",
    "    Find the frequency of words from clickbait tiles relative to non-clickbait titles\n",
    "    \"\"\"\n",
    "    log_ratios = []\n",
    "    cb_df = df[df[clickbait_indicator] == 1]\n",
    "    ncb_df = df[df[clickbait_indicator] == 0]\n",
    "    total_cb_corpus = len(cb_df) + 1\n",
    "    total_ncb_corpus = len(ncb_df) + 1\n",
    "    for term in df[term_column]:\n",
    "        term_frequency_cb = (len(cb_df[cb_df[term_column] == term]) + 1)/total_cb_corpus\n",
    "        term_frequency_ncb = (len(ncb_df[ncb_df[term_column] == term]) + 1)/total_ncb_corpus\n",
    "        log_ratios += [math.log2(term_frequency_cb/term_frequency_ncb)]\n",
    "    return log_ratios"
   ]
  },
  {
   "cell_type": "code",
   "execution_count": 69,
   "metadata": {
    "collapsed": false
   },
   "outputs": [],
   "source": [
    "log_ratios = log_ratio(corpus_df)"
   ]
  },
  {
   "cell_type": "code",
   "execution_count": 72,
   "metadata": {
    "collapsed": true
   },
   "outputs": [],
   "source": [
    "corpus_df['log_ratios'] = log_ratios"
   ]
  },
  {
   "cell_type": "code",
   "execution_count": 76,
   "metadata": {
    "collapsed": false
   },
   "outputs": [],
   "source": [
    "final_corpus_df=corpus_df.drop_duplicates().sort_values(by = ['log_ratios'], ascending = False)"
   ]
  },
  {
   "cell_type": "code",
   "execution_count": 81,
   "metadata": {
    "collapsed": false
   },
   "outputs": [
    {
     "data": {
      "text/html": [
       "<div>\n",
       "<style scoped>\n",
       "    .dataframe tbody tr th:only-of-type {\n",
       "        vertical-align: middle;\n",
       "    }\n",
       "\n",
       "    .dataframe tbody tr th {\n",
       "        vertical-align: top;\n",
       "    }\n",
       "\n",
       "    .dataframe thead th {\n",
       "        text-align: right;\n",
       "    }\n",
       "</style>\n",
       "<table border=\"1\" class=\"dataframe\">\n",
       "  <thead>\n",
       "    <tr style=\"text-align: right;\">\n",
       "      <th></th>\n",
       "      <th>clickbait</th>\n",
       "      <th>corpus</th>\n",
       "      <th>log_ratios</th>\n",
       "    </tr>\n",
       "  </thead>\n",
       "  <tbody>\n",
       "    <tr>\n",
       "      <th>167</th>\n",
       "      <td>1</td>\n",
       "      <td>what</td>\n",
       "      <td>6.852069</td>\n",
       "    </tr>\n",
       "    <tr>\n",
       "      <th>115</th>\n",
       "      <td>1</td>\n",
       "      <td>here's</td>\n",
       "      <td>5.568276</td>\n",
       "    </tr>\n",
       "    <tr>\n",
       "      <th>340</th>\n",
       "      <td>1</td>\n",
       "      <td>why</td>\n",
       "      <td>5.470979</td>\n",
       "    </tr>\n",
       "    <tr>\n",
       "      <th>44</th>\n",
       "      <td>1</td>\n",
       "      <td>you</td>\n",
       "      <td>5.305242</td>\n",
       "    </tr>\n",
       "    <tr>\n",
       "      <th>13</th>\n",
       "      <td>1</td>\n",
       "      <td>how</td>\n",
       "      <td>4.998910</td>\n",
       "    </tr>\n",
       "    <tr>\n",
       "      <th>150</th>\n",
       "      <td>1</td>\n",
       "      <td>this</td>\n",
       "      <td>4.912611</td>\n",
       "    </tr>\n",
       "    <tr>\n",
       "      <th>168</th>\n",
       "      <td>1</td>\n",
       "      <td>happened</td>\n",
       "      <td>4.799602</td>\n",
       "    </tr>\n",
       "    <tr>\n",
       "      <th>528</th>\n",
       "      <td>1</td>\n",
       "      <td>did</td>\n",
       "      <td>4.799602</td>\n",
       "    </tr>\n",
       "    <tr>\n",
       "      <th>187</th>\n",
       "      <td>1</td>\n",
       "      <td>here’s</td>\n",
       "      <td>4.688570</td>\n",
       "    </tr>\n",
       "    <tr>\n",
       "      <th>69</th>\n",
       "      <td>1</td>\n",
       "      <td>looks</td>\n",
       "      <td>4.629677</td>\n",
       "    </tr>\n",
       "    <tr>\n",
       "      <th>1026</th>\n",
       "      <td>1</td>\n",
       "      <td>they</td>\n",
       "      <td>4.629677</td>\n",
       "    </tr>\n",
       "    <tr>\n",
       "      <th>318</th>\n",
       "      <td>1</td>\n",
       "      <td>never</td>\n",
       "      <td>4.599303</td>\n",
       "    </tr>\n",
       "    <tr>\n",
       "      <th>141</th>\n",
       "      <td>1</td>\n",
       "      <td>most</td>\n",
       "      <td>4.366642</td>\n",
       "    </tr>\n",
       "    <tr>\n",
       "      <th>68</th>\n",
       "      <td>1</td>\n",
       "      <td>she</td>\n",
       "      <td>4.342395</td>\n",
       "    </tr>\n",
       "    <tr>\n",
       "      <th>36</th>\n",
       "      <td>1</td>\n",
       "      <td>reason</td>\n",
       "      <td>4.292642</td>\n",
       "    </tr>\n",
       "    <tr>\n",
       "      <th>283</th>\n",
       "      <td>1</td>\n",
       "      <td>happens</td>\n",
       "      <td>4.292642</td>\n",
       "    </tr>\n",
       "    <tr>\n",
       "      <th>166</th>\n",
       "      <td>1</td>\n",
       "      <td>guess</td>\n",
       "      <td>4.214639</td>\n",
       "    </tr>\n",
       "    <tr>\n",
       "      <th>842</th>\n",
       "      <td>1</td>\n",
       "      <td>actually</td>\n",
       "      <td>4.132177</td>\n",
       "    </tr>\n",
       "    <tr>\n",
       "      <th>645</th>\n",
       "      <td>1</td>\n",
       "      <td>do</td>\n",
       "      <td>4.044714</td>\n",
       "    </tr>\n",
       "    <tr>\n",
       "      <th>2405</th>\n",
       "      <td>1</td>\n",
       "      <td>really</td>\n",
       "      <td>4.044714</td>\n",
       "    </tr>\n",
       "  </tbody>\n",
       "</table>\n",
       "</div>"
      ],
      "text/plain": [
       "      clickbait    corpus  log_ratios\n",
       "167           1      what    6.852069\n",
       "115           1    here's    5.568276\n",
       "340           1       why    5.470979\n",
       "44            1       you    5.305242\n",
       "13            1       how    4.998910\n",
       "150           1      this    4.912611\n",
       "168           1  happened    4.799602\n",
       "528           1       did    4.799602\n",
       "187           1    here’s    4.688570\n",
       "69            1     looks    4.629677\n",
       "1026          1      they    4.629677\n",
       "318           1     never    4.599303\n",
       "141           1      most    4.366642\n",
       "68            1       she    4.342395\n",
       "36            1    reason    4.292642\n",
       "283           1   happens    4.292642\n",
       "166           1     guess    4.214639\n",
       "842           1  actually    4.132177\n",
       "645           1        do    4.044714\n",
       "2405          1    really    4.044714"
      ]
     },
     "execution_count": 81,
     "metadata": {},
     "output_type": "execute_result"
    }
   ],
   "source": [
    "most_likely_cb = final_corpus_df[final_corpus_df['clickbait'] == 1].head(20)\n",
    "most_likely_cb"
   ]
  },
  {
   "cell_type": "code",
   "execution_count": 82,
   "metadata": {
    "collapsed": false
   },
   "outputs": [
    {
     "data": {
      "text/html": [
       "<div>\n",
       "<style scoped>\n",
       "    .dataframe tbody tr th:only-of-type {\n",
       "        vertical-align: middle;\n",
       "    }\n",
       "\n",
       "    .dataframe tbody tr th {\n",
       "        vertical-align: top;\n",
       "    }\n",
       "\n",
       "    .dataframe thead th {\n",
       "        text-align: right;\n",
       "    }\n",
       "</style>\n",
       "<table border=\"1\" class=\"dataframe\">\n",
       "  <thead>\n",
       "    <tr style=\"text-align: right;\">\n",
       "      <th></th>\n",
       "      <th>clickbait</th>\n",
       "      <th>corpus</th>\n",
       "      <th>log_ratios</th>\n",
       "    </tr>\n",
       "  </thead>\n",
       "  <tbody>\n",
       "    <tr>\n",
       "      <th>10145</th>\n",
       "      <td>0</td>\n",
       "      <td>marijuana</td>\n",
       "      <td>-3.540248</td>\n",
       "    </tr>\n",
       "    <tr>\n",
       "      <th>10144</th>\n",
       "      <td>0</td>\n",
       "      <td>medical</td>\n",
       "      <td>-3.540248</td>\n",
       "    </tr>\n",
       "    <tr>\n",
       "      <th>10160</th>\n",
       "      <td>0</td>\n",
       "      <td>reports</td>\n",
       "      <td>-3.540248</td>\n",
       "    </tr>\n",
       "    <tr>\n",
       "      <th>10270</th>\n",
       "      <td>0</td>\n",
       "      <td>protest</td>\n",
       "      <td>-3.540248</td>\n",
       "    </tr>\n",
       "    <tr>\n",
       "      <th>9616</th>\n",
       "      <td>0</td>\n",
       "      <td>fired</td>\n",
       "      <td>-3.540248</td>\n",
       "    </tr>\n",
       "    <tr>\n",
       "      <th>9617</th>\n",
       "      <td>0</td>\n",
       "      <td>federal</td>\n",
       "      <td>-3.540248</td>\n",
       "    </tr>\n",
       "    <tr>\n",
       "      <th>9702</th>\n",
       "      <td>0</td>\n",
       "      <td>california</td>\n",
       "      <td>-3.655726</td>\n",
       "    </tr>\n",
       "    <tr>\n",
       "      <th>9805</th>\n",
       "      <td>0</td>\n",
       "      <td>russian</td>\n",
       "      <td>-3.655726</td>\n",
       "    </tr>\n",
       "    <tr>\n",
       "      <th>11494</th>\n",
       "      <td>0</td>\n",
       "      <td>killed</td>\n",
       "      <td>-3.655726</td>\n",
       "    </tr>\n",
       "    <tr>\n",
       "      <th>10240</th>\n",
       "      <td>0</td>\n",
       "      <td>united</td>\n",
       "      <td>-3.655726</td>\n",
       "    </tr>\n",
       "    <tr>\n",
       "      <th>10128</th>\n",
       "      <td>0</td>\n",
       "      <td>arrest</td>\n",
       "      <td>-3.762641</td>\n",
       "    </tr>\n",
       "    <tr>\n",
       "      <th>10846</th>\n",
       "      <td>0</td>\n",
       "      <td>shot</td>\n",
       "      <td>-3.862176</td>\n",
       "    </tr>\n",
       "    <tr>\n",
       "      <th>9785</th>\n",
       "      <td>0</td>\n",
       "      <td>charged</td>\n",
       "      <td>-3.955286</td>\n",
       "    </tr>\n",
       "    <tr>\n",
       "      <th>9703</th>\n",
       "      <td>0</td>\n",
       "      <td>senate</td>\n",
       "      <td>-3.955286</td>\n",
       "    </tr>\n",
       "    <tr>\n",
       "      <th>11669</th>\n",
       "      <td>0</td>\n",
       "      <td>government</td>\n",
       "      <td>-4.042749</td>\n",
       "    </tr>\n",
       "    <tr>\n",
       "      <th>10058</th>\n",
       "      <td>0</td>\n",
       "      <td>officer</td>\n",
       "      <td>-4.125211</td>\n",
       "    </tr>\n",
       "    <tr>\n",
       "      <th>9692</th>\n",
       "      <td>0</td>\n",
       "      <td>prison</td>\n",
       "      <td>-4.277214</td>\n",
       "    </tr>\n",
       "    <tr>\n",
       "      <th>9666</th>\n",
       "      <td>0</td>\n",
       "      <td>police</td>\n",
       "      <td>-4.457786</td>\n",
       "    </tr>\n",
       "    <tr>\n",
       "      <th>9694</th>\n",
       "      <td>0</td>\n",
       "      <td>court</td>\n",
       "      <td>-4.655726</td>\n",
       "    </tr>\n",
       "    <tr>\n",
       "      <th>9751</th>\n",
       "      <td>0</td>\n",
       "      <td>judge</td>\n",
       "      <td>-4.710173</td>\n",
       "    </tr>\n",
       "  </tbody>\n",
       "</table>\n",
       "</div>"
      ],
      "text/plain": [
       "       clickbait      corpus  log_ratios\n",
       "10145          0   marijuana   -3.540248\n",
       "10144          0     medical   -3.540248\n",
       "10160          0     reports   -3.540248\n",
       "10270          0     protest   -3.540248\n",
       "9616           0       fired   -3.540248\n",
       "9617           0     federal   -3.540248\n",
       "9702           0  california   -3.655726\n",
       "9805           0     russian   -3.655726\n",
       "11494          0      killed   -3.655726\n",
       "10240          0      united   -3.655726\n",
       "10128          0      arrest   -3.762641\n",
       "10846          0        shot   -3.862176\n",
       "9785           0     charged   -3.955286\n",
       "9703           0      senate   -3.955286\n",
       "11669          0  government   -4.042749\n",
       "10058          0     officer   -4.125211\n",
       "9692           0      prison   -4.277214\n",
       "9666           0      police   -4.457786\n",
       "9694           0       court   -4.655726\n",
       "9751           0       judge   -4.710173"
      ]
     },
     "execution_count": 82,
     "metadata": {},
     "output_type": "execute_result"
    }
   ],
   "source": [
    "least_likely_cb = final_corpus_df[final_corpus_df['clickbait'] == 0].tail(20)\n",
    "least_likely_cb"
   ]
  },
  {
   "cell_type": "code",
   "execution_count": 101,
   "metadata": {
    "collapsed": false
   },
   "outputs": [],
   "source": [
    "concatenated_corpus_df = pd.concat([most_likely_cb, least_likely_cb])"
   ]
  },
  {
   "cell_type": "code",
   "execution_count": 105,
   "metadata": {
    "collapsed": false
   },
   "outputs": [
    {
     "data": {
      "text/plain": [
       "([<matplotlib.axis.YTick at 0x11977e9b0>,\n",
       "  <matplotlib.axis.YTick at 0x11987f198>,\n",
       "  <matplotlib.axis.YTick at 0x119aa3470>,\n",
       "  <matplotlib.axis.YTick at 0x119ba7668>,\n",
       "  <matplotlib.axis.YTick at 0x119bab198>,\n",
       "  <matplotlib.axis.YTick at 0x119babc88>,\n",
       "  <matplotlib.axis.YTick at 0x119bb07b8>,\n",
       "  <matplotlib.axis.YTick at 0x119bb22e8>,\n",
       "  <matplotlib.axis.YTick at 0x119bb2dd8>,\n",
       "  <matplotlib.axis.YTick at 0x119bb7908>,\n",
       "  <matplotlib.axis.YTick at 0x119bba438>,\n",
       "  <matplotlib.axis.YTick at 0x119bbaf28>,\n",
       "  <matplotlib.axis.YTick at 0x119bbfa58>,\n",
       "  <matplotlib.axis.YTick at 0x119bc3588>,\n",
       "  <matplotlib.axis.YTick at 0x119bc60b8>,\n",
       "  <matplotlib.axis.YTick at 0x119bc6ba8>,\n",
       "  <matplotlib.axis.YTick at 0x119bcb6d8>,\n",
       "  <matplotlib.axis.YTick at 0x119bce208>,\n",
       "  <matplotlib.axis.YTick at 0x119bcecf8>,\n",
       "  <matplotlib.axis.YTick at 0x119bd3828>,\n",
       "  <matplotlib.axis.YTick at 0x119bd7358>,\n",
       "  <matplotlib.axis.YTick at 0x119bd7e48>,\n",
       "  <matplotlib.axis.YTick at 0x119bda978>,\n",
       "  <matplotlib.axis.YTick at 0x119bdf4a8>,\n",
       "  <matplotlib.axis.YTick at 0x119bdff98>,\n",
       "  <matplotlib.axis.YTick at 0x119be2ac8>,\n",
       "  <matplotlib.axis.YTick at 0x119be75f8>,\n",
       "  <matplotlib.axis.YTick at 0x119bec128>,\n",
       "  <matplotlib.axis.YTick at 0x119becc18>,\n",
       "  <matplotlib.axis.YTick at 0x119bf0748>,\n",
       "  <matplotlib.axis.YTick at 0x119bf3278>,\n",
       "  <matplotlib.axis.YTick at 0x119bf3d68>,\n",
       "  <matplotlib.axis.YTick at 0x119bf8898>,\n",
       "  <matplotlib.axis.YTick at 0x119bfb3c8>,\n",
       "  <matplotlib.axis.YTick at 0x119bfbeb8>,\n",
       "  <matplotlib.axis.YTick at 0x119bff9e8>,\n",
       "  <matplotlib.axis.YTick at 0x119c05518>,\n",
       "  <matplotlib.axis.YTick at 0x119c07048>,\n",
       "  <matplotlib.axis.YTick at 0x119c07b38>,\n",
       "  <matplotlib.axis.YTick at 0x119c0c668>],\n",
       " <a list of 40 Text yticklabel objects>)"
      ]
     },
     "execution_count": 105,
     "metadata": {},
     "output_type": "execute_result"
    },
    {
     "data": {
      "image/png": "[encoded data removed]",
      "text/plain": [
       "<matplotlib.figure.Figure at 0x119557278>"
      ]
     },
     "metadata": {},
     "output_type": "display_data"
    }
   ],
   "source": [
    "plt.figure(figsize=(10, 8))\n",
    "color_scheme = []\n",
    "least_likely = ['#09C2FF'] * 20 \n",
    "most_likely = ['#004E68'] * 20\n",
    "color_scheme += least_likely\n",
    "color_scheme += most_likely\n",
    "plt.title('Clickbait vs. Non-Clickbait: Least and Most Frequent Terms')\n",
    "plt.barh(\n",
    "    np.arange(len(most_likely_cb) + len(least_likely_cb)),\n",
    "    most_likely_cb['log_ratios'].append(least_likely_cb['log_ratios']),\n",
    "    alpha = 0.8,\n",
    "    color = color_scheme\n",
    ")\n",
    "plt.xlabel('Clickbait / Non-Clickbait Log Ratio')\n",
    "plt.yticks(np.arange(40), concatenated_corpus_df['corpus'])"
   ]
  },
  {
   "cell_type": "code",
   "execution_count": 120,
   "metadata": {
    "collapsed": true
   },
   "outputs": [],
   "source": [
    "# Train-Test Split\n",
    "X_train, X_test, y_train, y_test = train_test_split(\n",
    "    clickbait_df[['caps_ratio', 'exclamation', 'question']],\n",
    "    clickbait_df['clickbait'],\n",
    "    random_state = 42,\n",
    "    test_size = 0.2\n",
    ")"
   ]
  },
  {
   "cell_type": "code",
   "execution_count": 156,
   "metadata": {
    "collapsed": false
   },
   "outputs": [
    {
     "data": {
      "text/plain": [
       "0.7383647798742138"
      ]
     },
     "execution_count": 156,
     "metadata": {},
     "output_type": "execute_result"
    }
   ],
   "source": [
    "# Logistic Regression Classification\n",
    "logistic_regression = LogisticRegression()\n",
    "logistic_regression = logistic_regression.fit(X_train, y_train)\n",
    "logistic_regression.score(X_train, y_train)"
   ]
  },
  {
   "cell_type": "code",
   "execution_count": 158,
   "metadata": {
    "collapsed": false
   },
   "outputs": [
    {
     "name": "stdout",
     "output_type": "stream",
     "text": [
      "The Logistic Regression classifier performed with a 77.1356783919598% accuracy on test data\n"
     ]
    }
   ],
   "source": [
    "# Logistic Regression Holdout Test\n",
    "print('The Logistic Regression classifier performed with a '+ \n",
    "      str(sum(logistic_regression.predict(X_test) == np.array(y_test))/len(y_test) * 100) + \n",
    "      '% accuracy on test data')"
   ]
  },
  {
   "cell_type": "code",
   "execution_count": 151,
   "metadata": {
    "collapsed": false
   },
   "outputs": [
    {
     "data": {
      "text/plain": [
       "0.7647798742138365"
      ]
     },
     "execution_count": 151,
     "metadata": {},
     "output_type": "execute_result"
    }
   ],
   "source": [
    "# Random Forest Classification\n",
    "random_forest = RandomForestClassifier()\n",
    "random_forest = random_forest.fit(X_train, y_train)\n",
    "random_forest.score(X_train, y_train)"
   ]
  },
  {
   "cell_type": "code",
   "execution_count": 154,
   "metadata": {
    "collapsed": false
   },
   "outputs": [
    {
     "name": "stdout",
     "output_type": "stream",
     "text": [
      "The Random Forest classifier performed with a 77.63819095477386% accuracy on test data\n"
     ]
    }
   ],
   "source": [
    "# Random Forest Holdout Test\n",
    "print('The Random Forest classifier performed with a '+ \n",
    "      str(sum(random_forest.predict(X_test) == np.array(y_test))/len(y_test) * 100) + \n",
    "      '% accuracy on test data')"
   ]
  },
  {
   "cell_type": "code",
   "execution_count": 159,
   "metadata": {
    "collapsed": false
   },
   "outputs": [],
   "source": [
    "# Preparing data for Naive Bayes Classification\n",
    "stemmer = PorterStemmer()\n",
    "processed_titles = []\n",
    "for title in clickbait_df['title']:\n",
    "    temp_np_title = title.strip(string.punctuation).split()\n",
    "    np_title = [word.strip(string.punctuation) for word in temp_np_title]\n",
    "    corpus = [word for word in np_title if word not in set(stopwords.words('english'))]\n",
    "    lower_corpus = [word.lower() for word in corpus]\n",
    "    final_corpus = [stemmer.stem(word) for word in lower_corpus]\n",
    "    processed_titles += [' '.join(final_corpus)]\n",
    "processed_titles = np.array(processed_titles)"
   ]
  },
  {
   "cell_type": "code",
   "execution_count": 163,
   "metadata": {
    "collapsed": false
   },
   "outputs": [],
   "source": [
    "X_train_nb, X_test_nb, y_train_nb, y_test_nb = train_test_split(\n",
    "    processed_titles, \n",
    "    clickbait_df['clickbait'],\n",
    "    random_state = 42,\n",
    "    test_size = 0.2\n",
    ")"
   ]
  },
  {
   "cell_type": "code",
   "execution_count": 182,
   "metadata": {
    "collapsed": false
   },
   "outputs": [
    {
     "data": {
      "text/plain": [
       "0.9861635220125786"
      ]
     },
     "execution_count": 182,
     "metadata": {},
     "output_type": "execute_result"
    }
   ],
   "source": [
    "# Naive Bayes Classification\n",
    "naive_bayes_pipeline = Pipeline([\n",
    "    ('vect', CountVectorizer()),\n",
    "    ('tfidf', TfidfTransformer()),\n",
    "    ('multinomialnb', MultinomialNB())]\n",
    ")\n",
    "naive_bayes = naive_bayes_pipeline.fit(X_train_nb, y_train_nb)\n",
    "naive_bayes.score(X_train_nb, y_train_nb)"
   ]
  },
  {
   "cell_type": "code",
   "execution_count": 185,
   "metadata": {
    "collapsed": false
   },
   "outputs": [
    {
     "name": "stdout",
     "output_type": "stream",
     "text": [
      "The Naive Bayes classifier performed with a 89.9497487437186% accuracy on test data\n"
     ]
    }
   ],
   "source": [
    "# Naive Bayes Holdout Test\n",
    "print('The Naive Bayes classifier performed with a '+ \n",
    "      str(sum(naive_bayes.predict(X_test_nb) == np.array(y_test_nb))/len(y_test_nb) * 100) + \n",
    "      '% accuracy on test data')"
   ]
  }
 ],
 "metadata": {
  "kernelspec": {
   "display_name": "Python 3",
   "language": "python",
   "name": "python3"
  },
  "language_info": {
   "codemirror_mode": {
    "name": "ipython",
    "version": 3
   },
   "file_extension": ".py",
   "mimetype": "text/x-python",
   "name": "python",
   "nbconvert_exporter": "python",
   "pygments_lexer": "ipython3",
   "version": "3.5.4"
  }
 },
 "nbformat": 4,
 "nbformat_minor": 0
}
